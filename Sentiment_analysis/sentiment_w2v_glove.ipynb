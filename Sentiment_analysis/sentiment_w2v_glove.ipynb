{
 "cells": [
  {
   "cell_type": "code",
   "execution_count": 4,
   "metadata": {},
   "outputs": [],
   "source": [
    "train_positive =  open(\"/data1/home/mukeshram/Natural_Language_Processing/Sentiment_analysis/dataset/Train.pos\" , \"r\", encoding=\"latin-1\").read()\n",
    "train_negative =  open(\"/data1/home/mukeshram/Natural_Language_Processing/Sentiment_analysis/dataset/Train.neg\" , \"r\", encoding=\"latin-1\").read()\n",
    "test_data =  open(\"/data1/home/mukeshram/Natural_Language_Processing/Sentiment_analysis/dataset/TestData\" , \"r\", encoding=\"latin-1\").read()"
   ]
  },
  {
   "cell_type": "code",
   "execution_count": 5,
   "metadata": {},
   "outputs": [],
   "source": [
    "import re\n",
    "import nltk\n",
    "import string\n",
    "from nltk.tokenize import word_tokenize\n",
    "from nltk.corpus import stopwords\n",
    "from nltk.stem.porter import PorterStemmer"
   ]
  },
  {
   "cell_type": "code",
   "execution_count": 6,
   "metadata": {},
   "outputs": [],
   "source": [
    "def clean(data):\n",
    "    cleaned_data = []\n",
    "\n",
    "    for i in data:\n",
    "        i = i.lower()\n",
    "        pattern = re.compile('http[s]?://(?:[a-zA-Z]|[0-9]|[$-_@.&+]|[!*\\(\\),]|(?:%[0-9a-fA-F][0-9a-fA-F]))+')\n",
    "        i = pattern.sub('', i)\n",
    "        i = re.sub(r\"[,.\\\"!@#$%^&*(){}?/;`~:<>+=-]\", \"\", i)\n",
    "        tokens = word_tokenize(i)\n",
    "        stop_words = set(stopwords.words(\"english\"))\n",
    "        stop_words.discard(\"not\")\n",
    "        words = [w for w in tokens if w.isalpha() and w not in stop_words]\n",
    "        words = ' '.join(words)\n",
    "        cleaned_data.append(words)\n",
    "    return cleaned_data"
   ]
  },
  {
   "cell_type": "code",
   "execution_count": 7,
   "metadata": {},
   "outputs": [],
   "source": [
    "train_pos = clean(train_positive.split(\"\\n\")[:-1])\n",
    "train_neg = clean(train_negative.split(\"\\n\")[:-1])\n",
    "test = clean(test_data.split(\"\\n\")[:-1])"
   ]
  },
  {
   "cell_type": "code",
   "execution_count": 8,
   "metadata": {},
   "outputs": [
    {
     "data": {
      "text/plain": [
       "'simplistic silly tedious'"
      ]
     },
     "execution_count": 8,
     "metadata": {},
     "output_type": "execute_result"
    }
   ],
   "source": [
    "train_neg[0]"
   ]
  },
  {
   "cell_type": "code",
   "execution_count": 9,
   "metadata": {},
   "outputs": [],
   "source": [
    "x_train_p = [i +\"1\" for i in train_pos]\n",
    "x_train_n = [i +\"0\" for i in train_neg]\n",
    "x_data = x_train_p + x_train_n\n",
    "\n",
    "\n",
    "import random\n",
    "random.seed(42)\n",
    "random.shuffle(x_data)\n"
   ]
  },
  {
   "cell_type": "code",
   "execution_count": 10,
   "metadata": {},
   "outputs": [
    {
     "data": {
      "text/plain": [
       "['questioning election process payami graphically illustrates problems fledgling democracies also strength sense freedom iranian people already possess without access ballot box1',\n",
       " 'bright side contains jesse ventura best work since xfl0',\n",
       " 'acting particularly tambor almost makes never worthwhile writerdirector schaeffer follow titular advice0',\n",
       " 'andersson creates world surreal disturbingly familiar absurd yet tremendously sad1',\n",
       " 'always appreciated smartly written motion picture whatever flaws igby goes may possess undeniably1']"
      ]
     },
     "execution_count": 10,
     "metadata": {},
     "output_type": "execute_result"
    }
   ],
   "source": [
    "x_data[0:5]"
   ]
  },
  {
   "cell_type": "code",
   "execution_count": 11,
   "metadata": {},
   "outputs": [],
   "source": [
    "x_train_data = [i[:-1] for i in x_data]\n",
    "y_train = [int(i[-1]) for i in x_data]"
   ]
  },
  {
   "cell_type": "code",
   "execution_count": 12,
   "metadata": {},
   "outputs": [],
   "source": [
    "from gensim.models import KeyedVectors\n",
    "word2vec_model = KeyedVectors.load(\"/data1/home/mukeshram/NLP/word2vec_google_news_model\")"
   ]
  },
  {
   "cell_type": "code",
   "execution_count": 13,
   "metadata": {},
   "outputs": [],
   "source": [
    "from gensim.models import KeyedVectors\n",
    "glove_model = KeyedVectors.load(\"/data1/home/mukeshram/NLP/glove-wiki-gigaword-300\")"
   ]
  },
  {
   "cell_type": "code",
   "execution_count": 14,
   "metadata": {},
   "outputs": [
    {
     "data": {
      "text/plain": [
       "(300, 300)"
      ]
     },
     "execution_count": 14,
     "metadata": {},
     "output_type": "execute_result"
    }
   ],
   "source": [
    "len(word2vec_model[\"king\"]),len(glove_model[\"king\"])\n",
    "\n"
   ]
  },
  {
   "cell_type": "code",
   "execution_count": 15,
   "metadata": {},
   "outputs": [],
   "source": [
    "import numpy as np\n",
    "\n",
    "def sentence_embedding(sentence, word2vec_model, glove_model):\n",
    "    words = sentence.split()\n",
    "    sentence_vector_w2v = np.zeros(word2vec_model.vector_size)\n",
    "    sentence_vector_glove = np.zeros(glove_model.vector_size)\n",
    "    \n",
    "    for word in words:\n",
    "        if word in word2vec_model:\n",
    "            sentence_vector_w2v += word2vec_model[word]\n",
    "        \n",
    "        if word in glove_model:\n",
    "            sentence_vector_glove += glove_model[word]\n",
    "    \n",
    "    num_words = len(words)\n",
    "    if num_words > 0:\n",
    "        sentence_vector_w2v /= num_words\n",
    "        sentence_vector_glove /= num_words\n",
    "    \n",
    "    sentence_vector = np.concatenate((sentence_vector_w2v, sentence_vector_glove))\n",
    "    return sentence_vector\n",
    "\n"
   ]
  },
  {
   "cell_type": "code",
   "execution_count": 16,
   "metadata": {},
   "outputs": [
    {
     "data": {
      "text/plain": [
       "600"
      ]
     },
     "execution_count": 16,
     "metadata": {},
     "output_type": "execute_result"
    }
   ],
   "source": [
    "len(sentence_embedding(\"king\", word2vec_model, glove_model))"
   ]
  },
  {
   "cell_type": "code",
   "execution_count": 17,
   "metadata": {},
   "outputs": [],
   "source": [
    "x_train=[]\n",
    "for i in x_train_data:\n",
    "    x_train.append(sentence_embedding(i, word2vec_model, glove_model))\n",
    "    \n",
    "    "
   ]
  },
  {
   "cell_type": "code",
   "execution_count": 18,
   "metadata": {},
   "outputs": [
    {
     "data": {
      "text/plain": [
       "10000"
      ]
     },
     "execution_count": 18,
     "metadata": {},
     "output_type": "execute_result"
    }
   ],
   "source": [
    "len(x_train)"
   ]
  },
  {
   "cell_type": "code",
   "execution_count": 19,
   "metadata": {},
   "outputs": [
    {
     "data": {
      "text/plain": [
       "1"
      ]
     },
     "execution_count": 19,
     "metadata": {},
     "output_type": "execute_result"
    }
   ],
   "source": [
    "y_train[0]\n"
   ]
  },
  {
   "cell_type": "code",
   "execution_count": 20,
   "metadata": {},
   "outputs": [],
   "source": [
    "x_test=[]\n",
    "for i in test:\n",
    "    x_test.append(sentence_embedding(i, word2vec_model, glove_model))\n"
   ]
  },
  {
   "cell_type": "code",
   "execution_count": 21,
   "metadata": {},
   "outputs": [],
   "source": [
    "x_train = np.array(x_train)\n",
    "y_train = np.array(y_train)\n",
    "x_test = np.array(x_test)"
   ]
  },
  {
   "cell_type": "code",
   "execution_count": 22,
   "metadata": {},
   "outputs": [
    {
     "data": {
      "text/plain": [
       "((10000, 600), (10000,))"
      ]
     },
     "execution_count": 22,
     "metadata": {},
     "output_type": "execute_result"
    }
   ],
   "source": [
    "x_train.shape, y_train.shape"
   ]
  },
  {
   "cell_type": "code",
   "execution_count": 23,
   "metadata": {},
   "outputs": [],
   "source": [
    "from sklearn.preprocessing import StandardScaler\n",
    "scaler = StandardScaler()\n",
    "x_train = scaler.fit_transform(x_train)\n",
    "x_test = scaler.transform(x_test)"
   ]
  },
  {
   "cell_type": "code",
   "execution_count": 24,
   "metadata": {},
   "outputs": [],
   "source": [
    "from sklearn.model_selection import cross_validate, train_test_split\n",
    "\n",
    "X_train, X_test, y_train, y_test = train_test_split(x_train, y_train, test_size=0.20, shuffle=False)\n"
   ]
  },
  {
   "cell_type": "code",
   "execution_count": 25,
   "metadata": {},
   "outputs": [
    {
     "name": "stderr",
     "output_type": "stream",
     "text": [
      "2023-09-09 18:33:45.509072: I tensorflow/core/platform/cpu_feature_guard.cc:182] This TensorFlow binary is optimized to use available CPU instructions in performance-critical operations.\n",
      "To enable the following instructions: AVX2 FMA, in other operations, rebuild TensorFlow with the appropriate compiler flags.\n",
      "2023-09-09 18:33:47.866006: W tensorflow/compiler/tf2tensorrt/utils/py_utils.cc:38] TF-TRT Warning: Could not find TensorRT\n"
     ]
    }
   ],
   "source": [
    "import tensorflow as tf\n",
    "from tensorflow import keras\n",
    "from tensorflow.keras import layers\n"
   ]
  },
  {
   "cell_type": "code",
   "execution_count": 26,
   "metadata": {},
   "outputs": [
    {
     "name": "stderr",
     "output_type": "stream",
     "text": [
      "2023-09-09 18:33:51.023724: W tensorflow/core/common_runtime/gpu/gpu_device.cc:1960] Cannot dlopen some GPU libraries. Please make sure the missing libraries mentioned above are installed properly if you would like to use GPU. Follow the guide at https://www.tensorflow.org/install/gpu for how to download and setup the required libraries for your platform.\n",
      "Skipping registering GPU devices...\n"
     ]
    }
   ],
   "source": [
    "model = keras.Sequential([\n",
    "    layers.Input(shape=(600,)),  # Input layer\n",
    "    # layers.Dense(600, activation='relu'),  # Hidden layer(s)\n",
    "    layers.Dense(1200, activation='relu'),  # Hidden layer(s)\n",
    "    layers.Dense(600, activation='relu'),  # Hidden layer(s)\n",
    "    layers.Dense(300, activation='relu'),  # Hidden layer(s)\n",
    "\n",
    "    layers.Dense(100, activation='relu'),  # Hidden layer(s)\n",
    "\n",
    "    layers.Dense(1, activation='sigmoid')  # Output layer\n",
    "])\n"
   ]
  },
  {
   "cell_type": "code",
   "execution_count": 27,
   "metadata": {},
   "outputs": [
    {
     "name": "stdout",
     "output_type": "stream",
     "text": [
      "Model: \"sequential\"\n",
      "_________________________________________________________________\n",
      " Layer (type)                Output Shape              Param #   \n",
      "=================================================================\n",
      " dense (Dense)               (None, 1200)              721200    \n",
      "                                                                 \n",
      " dense_1 (Dense)             (None, 600)               720600    \n",
      "                                                                 \n",
      " dense_2 (Dense)             (None, 300)               180300    \n",
      "                                                                 \n",
      " dense_3 (Dense)             (None, 100)               30100     \n",
      "                                                                 \n",
      " dense_4 (Dense)             (None, 1)                 101       \n",
      "                                                                 \n",
      "=================================================================\n",
      "Total params: 1652301 (6.30 MB)\n",
      "Trainable params: 1652301 (6.30 MB)\n",
      "Non-trainable params: 0 (0.00 Byte)\n",
      "_________________________________________________________________\n"
     ]
    }
   ],
   "source": [
    "learning_rate = 0.001  # You can adjust this value\n",
    "optimizer = tf.keras.optimizers.Adagrad(learning_rate=learning_rate)\n",
    "model.compile(loss='binary_crossentropy', optimizer=optimizer, metrics=['accuracy'])\n",
    "model.summary()"
   ]
  },
  {
   "cell_type": "code",
   "execution_count": 28,
   "metadata": {},
   "outputs": [],
   "source": [
    "early_stopping = tf.keras.callbacks.EarlyStopping(monitor='val_loss', patience=5, restore_best_weights=True)\n"
   ]
  },
  {
   "cell_type": "code",
   "execution_count": 29,
   "metadata": {},
   "outputs": [
    {
     "name": "stdout",
     "output_type": "stream",
     "text": [
      "Epoch 1/100\n",
      "200/200 [==============================] - 4s 17ms/step - loss: 0.6524 - accuracy: 0.6242 - val_loss: 0.6074 - val_accuracy: 0.6894\n",
      "Epoch 2/100\n",
      "200/200 [==============================] - 3s 15ms/step - loss: 0.5660 - accuracy: 0.7300 - val_loss: 0.5567 - val_accuracy: 0.7194\n",
      "Epoch 3/100\n",
      "200/200 [==============================] - 3s 14ms/step - loss: 0.5136 - accuracy: 0.7602 - val_loss: 0.5341 - val_accuracy: 0.7344\n",
      "Epoch 4/100\n",
      "200/200 [==============================] - 3s 14ms/step - loss: 0.4834 - accuracy: 0.7723 - val_loss: 0.5231 - val_accuracy: 0.7462\n",
      "Epoch 5/100\n",
      "200/200 [==============================] - 3s 14ms/step - loss: 0.4625 - accuracy: 0.7837 - val_loss: 0.5208 - val_accuracy: 0.7500\n",
      "Epoch 6/100\n",
      "200/200 [==============================] - 3s 15ms/step - loss: 0.4453 - accuracy: 0.7923 - val_loss: 0.5152 - val_accuracy: 0.7525\n",
      "Epoch 7/100\n",
      "200/200 [==============================] - 3s 13ms/step - loss: 0.4298 - accuracy: 0.7995 - val_loss: 0.5112 - val_accuracy: 0.7563\n",
      "Epoch 8/100\n",
      "200/200 [==============================] - 3s 14ms/step - loss: 0.4159 - accuracy: 0.8083 - val_loss: 0.5110 - val_accuracy: 0.7594\n",
      "Epoch 9/100\n",
      "200/200 [==============================] - 3s 13ms/step - loss: 0.4021 - accuracy: 0.8153 - val_loss: 0.5118 - val_accuracy: 0.7650\n",
      "Epoch 10/100\n",
      "200/200 [==============================] - 3s 13ms/step - loss: 0.3895 - accuracy: 0.8198 - val_loss: 0.5111 - val_accuracy: 0.7650\n",
      "Epoch 11/100\n",
      "200/200 [==============================] - 3s 13ms/step - loss: 0.3769 - accuracy: 0.8308 - val_loss: 0.5087 - val_accuracy: 0.7531\n",
      "Epoch 12/100\n",
      "200/200 [==============================] - 3s 13ms/step - loss: 0.3645 - accuracy: 0.8386 - val_loss: 0.5100 - val_accuracy: 0.7519\n",
      "Epoch 13/100\n",
      "200/200 [==============================] - 3s 13ms/step - loss: 0.3520 - accuracy: 0.8461 - val_loss: 0.5123 - val_accuracy: 0.7581\n",
      "Epoch 14/100\n",
      "200/200 [==============================] - 3s 13ms/step - loss: 0.3399 - accuracy: 0.8542 - val_loss: 0.5164 - val_accuracy: 0.7563\n",
      "Epoch 15/100\n",
      "200/200 [==============================] - 3s 13ms/step - loss: 0.3277 - accuracy: 0.8622 - val_loss: 0.5166 - val_accuracy: 0.7519\n",
      "Epoch 16/100\n",
      "200/200 [==============================] - 3s 13ms/step - loss: 0.3151 - accuracy: 0.8703 - val_loss: 0.5204 - val_accuracy: 0.7525\n"
     ]
    }
   ],
   "source": [
    "history = model.fit(X_train, y_train,\n",
    "                    epochs=100,\n",
    "                    # batch_size=16,\n",
    "                    validation_split=0.2,\n",
    "                    callbacks=[early_stopping],  # Use the early stopping callback\n",
    "                    verbose=1)\n"
   ]
  },
  {
   "cell_type": "code",
   "execution_count": 30,
   "metadata": {},
   "outputs": [
    {
     "name": "stdout",
     "output_type": "stream",
     "text": [
      "63/63 [==============================] - 1s 6ms/step - loss: 0.5221 - accuracy: 0.7450\n",
      "Test accuracy: 0.7450000047683716\n"
     ]
    },
    {
     "data": {
      "image/png": "[encoded data removed]",
      "text/plain": [
       "<Figure size 1200x400 with 2 Axes>"
      ]
     },
     "metadata": {},
     "output_type": "display_data"
    }
   ],
   "source": [
    "import matplotlib.pyplot as plt\n",
    "\n",
    "test_loss, test_accuracy = model.evaluate(X_test, y_test)\n",
    "print(f\"Test accuracy: {test_accuracy}\")\n",
    "\n",
    "# Plot training history\n",
    "plt.figure(figsize=(12, 4))\n",
    "\n",
    "# Plot training & validation accuracy values\n",
    "plt.subplot(1, 2, 1)\n",
    "plt.plot(history.history['accuracy'],marker = 'o')\n",
    "plt.plot(history.history['val_accuracy'],marker = 'o')\n",
    "plt.title('Model accuracy')\n",
    "plt.xlabel('Epoch')\n",
    "plt.ylabel('Accuracy')\n",
    "plt.legend(['Train', 'Validation'], loc='upper left')\n",
    "\n",
    "\n",
    "# Plot training & validation loss values\n",
    "plt.subplot(1, 2, 2)\n",
    "plt.plot(history.history['loss'],marker = 'o')\n",
    "plt.plot(history.history['val_loss'],marker = 'o')\n",
    "plt.title('Model loss')\n",
    "plt.xlabel('Epoch')\n",
    "plt.ylabel('Loss')\n",
    "plt.legend(['Train', 'Validation'], loc='upper left')\n",
    "\n",
    "plt.tight_layout()\n",
    "plt.show()"
   ]
  },
  {
   "cell_type": "code",
   "execution_count": 31,
   "metadata": {},
   "outputs": [
    {
     "name": "stdout",
     "output_type": "stream",
     "text": [
      "63/63 [==============================] - 0s 6ms/step - loss: 0.5221 - accuracy: 0.7450\n",
      "Test accuracy: 0.7450000047683716\n"
     ]
    },
    {
     "data": {
      "image/png": "[encoded data removed]",
      "text/plain": [
       "<Figure size 1200x400 with 2 Axes>"
      ]
     },
     "metadata": {},
     "output_type": "display_data"
    }
   ],
   "source": [
    "test_loss, test_accuracy = model.evaluate(X_test, y_test)\n",
    "print(f\"Test accuracy: {test_accuracy}\")\n",
    "\n",
    "# Plot training history\n",
    "plt.figure(figsize=(12, 4))\n",
    "\n",
    "# Plot training & validation accuracy values\n",
    "plt.subplot(1, 2, 1)\n",
    "plt.plot(history.history['accuracy'])\n",
    "plt.plot(history.history['val_accuracy'])\n",
    "plt.title('Model accuracy')\n",
    "plt.xlabel('Epoch')\n",
    "plt.ylabel('Accuracy')\n",
    "plt.legend(['Train', 'Validation'], loc='upper left')\n",
    "\n",
    "# Indicate the point where early stopping occurred\n",
    "best_val_loss_index = np.argmin(history.history['val_loss'])\n",
    "plt.scatter(best_val_loss_index, history.history['val_accuracy'][best_val_loss_index], color='red', marker='o', label='Early Stopping')\n",
    "plt.legend()\n",
    "\n",
    "# Plot training & validation loss values\n",
    "plt.subplot(1, 2, 2)\n",
    "plt.plot(history.history['loss'])\n",
    "plt.plot(history.history['val_loss'])\n",
    "plt.title('Model loss')\n",
    "plt.xlabel('Epoch')\n",
    "plt.ylabel('Loss')\n",
    "plt.legend(['Train', 'Validation'], loc='upper left')\n",
    "\n",
    "# Indicate the point where early stopping occurred\n",
    "plt.scatter(best_val_loss_index, history.history['val_loss'][best_val_loss_index], color='red', marker='o', label='Early Stopping')\n",
    "plt.legend()\n",
    "\n",
    "plt.tight_layout()\n",
    "plt.show()"
   ]
  },
  {
   "cell_type": "code",
   "execution_count": null,
   "metadata": {},
   "outputs": [],
   "source": []
  },
  {
   "cell_type": "code",
   "execution_count": null,
   "metadata": {},
   "outputs": [],
   "source": []
  },
  {
   "cell_type": "code",
   "execution_count": null,
   "metadata": {},
   "outputs": [],
   "source": []
  },
  {
   "cell_type": "code",
   "execution_count": 32,
   "metadata": {},
   "outputs": [
    {
     "name": "stdout",
     "output_type": "stream",
     "text": [
      "Accuracy: 0.74\n"
     ]
    },
    {
     "name": "stderr",
     "output_type": "stream",
     "text": [
      "/data1/home/mukeshram/miniconda3/lib/python3.10/site-packages/sklearn/linear_model/_logistic.py:458: ConvergenceWarning: lbfgs failed to converge (status=1):\n",
      "STOP: TOTAL NO. of ITERATIONS REACHED LIMIT.\n",
      "\n",
      "Increase the number of iterations (max_iter) or scale the data as shown in:\n",
      "    https://scikit-learn.org/stable/modules/preprocessing.html\n",
      "Please also refer to the documentation for alternative solver options:\n",
      "    https://scikit-learn.org/stable/modules/linear_model.html#logistic-regression\n",
      "  n_iter_i = _check_optimize_result(\n"
     ]
    }
   ],
   "source": [
    "from sklearn.model_selection import train_test_split\n",
    "from sklearn.linear_model import LogisticRegression\n",
    "from sklearn.metrics import accuracy_score\n",
    "\n",
    "# Assuming you have prepared your feature matrix X and target vector y\n",
    "# X_train, X_test, y_train, y_test = train_test_split(X, y, test_size=0.2, random_state=42)\n",
    "\n",
    "# Create a Logistic Regression model\n",
    "model = LogisticRegression()\n",
    "\n",
    "# Train the model on the training data\n",
    "model.fit(X_train, y_train)\n",
    "\n",
    "# Make predictions on the test data\n",
    "predictions = model.predict(X_test)\n",
    "\n",
    "# Calculate accuracy\n",
    "accuracy = accuracy_score(y_test, predictions)\n",
    "print(f\"Accuracy: {accuracy:.2f}\")\n"
   ]
  },
  {
   "cell_type": "code",
   "execution_count": null,
   "metadata": {},
   "outputs": [],
   "source": []
  },
  {
   "cell_type": "code",
   "execution_count": null,
   "metadata": {},
   "outputs": [],
   "source": []
  },
  {
   "cell_type": "code",
   "execution_count": 33,
   "metadata": {},
   "outputs": [
    {
     "name": "stdout",
     "output_type": "stream",
     "text": [
      "Accuracy: 0.73\n"
     ]
    }
   ],
   "source": [
    "from sklearn.model_selection import train_test_split\n",
    "from sklearn.svm import SVC\n",
    "from sklearn.metrics import accuracy_score\n",
    "\n",
    "# Assuming you have prepared your feature matrix X and target vector y\n",
    "# X_train, X_test, y_train, y_test = train_test_split(X, y, test_size=0.2, random_state=42)\n",
    "\n",
    "# Create an SVM model\n",
    "model = SVC(kernel='linear')  # You can choose different kernels like 'linear', 'rbf', 'poly', etc.\n",
    "\n",
    "# Train the model on the training data\n",
    "model.fit(X_train, y_train)\n",
    "\n",
    "# Make predictions on the test data\n",
    "predictions = model.predict(X_test)\n",
    "\n",
    "# Calculate accuracy\n",
    "accuracy = accuracy_score(y_test, predictions)\n",
    "print(f\"Accuracy: {accuracy:.2f}\")\n"
   ]
  },
  {
   "cell_type": "code",
   "execution_count": 34,
   "metadata": {},
   "outputs": [
    {
     "name": "stdout",
     "output_type": "stream",
     "text": [
      "Linear Kernel Accuracy: 0.73\n",
      "RBF Kernel Accuracy: 0.76\n",
      "Poly Kernel Accuracy: 0.74\n"
     ]
    }
   ],
   "source": [
    "from sklearn.model_selection import train_test_split\n",
    "from sklearn.svm import SVC\n",
    "from sklearn.metrics import accuracy_score\n",
    "\n",
    "# Assuming you have prepared your feature matrix X and target vector y\n",
    "# X_train, X_test, y_train, y_test = train_test_split(X, y, test_size=0.2, random_state=42)\n",
    "\n",
    "# Create SVM models with different kernels\n",
    "linear_model = SVC(kernel='linear')\n",
    "rbf_model = SVC(kernel='rbf')\n",
    "poly_model = SVC(kernel='poly', degree=3)  # You can adjust the degree parameter\n",
    "\n",
    "# Train the models on the training data\n",
    "linear_model.fit(X_train, y_train)\n",
    "rbf_model.fit(X_train, y_train)\n",
    "poly_model.fit(X_train, y_train)\n",
    "\n",
    "# Make predictions on the test data\n",
    "linear_predictions = linear_model.predict(X_test)\n",
    "rbf_predictions = rbf_model.predict(X_test)\n",
    "poly_predictions = poly_model.predict(X_test)\n",
    "\n",
    "# Calculate accuracies\n",
    "linear_accuracy = accuracy_score(y_test, linear_predictions)\n",
    "rbf_accuracy = accuracy_score(y_test, rbf_predictions)\n",
    "poly_accuracy = accuracy_score(y_test, poly_predictions)\n",
    "\n",
    "print(f\"Linear Kernel Accuracy: {linear_accuracy:.2f}\")\n",
    "print(f\"RBF Kernel Accuracy: {rbf_accuracy:.2f}\")\n",
    "print(f\"Poly Kernel Accuracy: {poly_accuracy:.2f}\")\n"
   ]
  },
  {
   "cell_type": "code",
   "execution_count": null,
   "metadata": {},
   "outputs": [],
   "source": []
  },
  {
   "cell_type": "code",
   "execution_count": null,
   "metadata": {},
   "outputs": [],
   "source": []
  },
  {
   "cell_type": "code",
   "execution_count": 35,
   "metadata": {},
   "outputs": [],
   "source": [
    "import tensorflow as tf\n",
    "\n",
    "embedding_dim = 600\n",
    "hidden_units = 128\n",
    "num_classes = 10  # Replace with your actual number of classes\n",
    "\n",
    "model = tf.keras.Sequential([\n",
    "    tf.keras.layers.Input(shape=(embedding_dim,)),\n",
    "    tf.keras.layers.Reshape(target_shape=(1, embedding_dim)),\n",
    "    tf.keras.layers.SimpleRNN(hidden_units),\n",
    "    tf.keras.layers.Dense(num_classes, activation='softmax')\n",
    "])\n",
    "\n",
    "model.compile(optimizer='Adagrad', loss='sparse_categorical_crossentropy', metrics=['accuracy'])\n"
   ]
  },
  {
   "cell_type": "code",
   "execution_count": 36,
   "metadata": {},
   "outputs": [
    {
     "name": "stdout",
     "output_type": "stream",
     "text": [
      "Epoch 1/500\n"
     ]
    }
   ],
   "source": [
    "history = model.fit(X_train, y_train,\n",
    "                    epochs=500,\n",
    "                    batch_size=32,\n",
    "                    validation_split=0.2,\n",
    "                    callbacks=[early_stopping],  # Use the early stopping callback\n",
    "                    verbose=1)"
   ]
  },
  {
   "cell_type": "code",
   "execution_count": null,
   "metadata": {},
   "outputs": [],
   "source": [
    "import matplotlib.pyplot as plt\n",
    "\n",
    "test_loss, test_accuracy = model.evaluate(X_test, y_test)\n",
    "print(f\"Test accuracy: {test_accuracy}\")\n",
    "\n",
    "# Plot training history\n",
    "plt.figure(figsize=(12, 4))\n",
    "\n",
    "# Plot training & validation accuracy values\n",
    "plt.subplot(1, 2, 1)\n",
    "plt.plot(history.history['accuracy'],marker = 'o')\n",
    "plt.plot(history.history['val_accuracy'],marker = 'o')\n",
    "plt.title('Model accuracy')\n",
    "plt.xlabel('Epoch')\n",
    "plt.ylabel('Accuracy')\n",
    "plt.legend(['Train', 'Validation'], loc='upper left')\n",
    "\n",
    "\n",
    "# Plot training & validation loss values\n",
    "plt.subplot(1, 2, 2)\n",
    "plt.plot(history.history['loss'],marker = 'o')\n",
    "plt.plot(history.history['val_loss'],marker = 'o')\n",
    "plt.title('Model loss')\n",
    "plt.xlabel('Epoch')\n",
    "plt.ylabel('Loss')\n",
    "plt.legend(['Train', 'Validation'], loc='upper left')\n",
    "\n",
    "plt.tight_layout()\n",
    "plt.show()"
   ]
  },
  {
   "cell_type": "code",
   "execution_count": null,
   "metadata": {},
   "outputs": [],
   "source": []
  },
  {
   "cell_type": "code",
   "execution_count": null,
   "metadata": {},
   "outputs": [],
   "source": [
    "import tensorflow as tf\n",
    "\n",
    "embedding_dim = 600\n",
    "hidden_units = 128\n",
    "num_classes = 10  # Replace with your actual number of classes\n",
    "\n",
    "model = tf.keras.Sequential([\n",
    "    tf.keras.layers.Input(shape=(embedding_dim,)),\n",
    "    tf.keras.layers.Reshape(target_shape=(1, embedding_dim)),\n",
    "    tf.keras.layers.LSTM(hidden_units),  # Change SimpleRNN to LSTM\n",
    "    tf.keras.layers.Dense(num_classes, activation='softmax')\n",
    "])\n",
    "\n",
    "model.compile(optimizer='Adagrad', loss='sparse_categorical_crossentropy', metrics=['accuracy'])\n"
   ]
  },
  {
   "cell_type": "code",
   "execution_count": null,
   "metadata": {},
   "outputs": [],
   "source": [
    "history = model.fit(X_train, y_train,\n",
    "                    epochs=500,\n",
    "                    batch_size=32,\n",
    "                    validation_split=0.2,\n",
    "                    callbacks=[early_stopping],  # Use the early stopping callback\n",
    "                    verbose=1)"
   ]
  },
  {
   "cell_type": "code",
   "execution_count": null,
   "metadata": {},
   "outputs": [],
   "source": [
    "import matplotlib.pyplot as plt\n",
    "\n",
    "test_loss, test_accuracy = model.evaluate(X_test, y_test)\n",
    "print(f\"Test accuracy: {test_accuracy}\")\n",
    "\n",
    "# Plot training history\n",
    "plt.figure(figsize=(12, 4))\n",
    "\n",
    "# Plot training & validation accuracy values\n",
    "plt.subplot(1, 2, 1)\n",
    "plt.plot(history.history['accuracy'],marker = 'o')\n",
    "plt.plot(history.history['val_accuracy'],marker = 'o')\n",
    "plt.title('Model accuracy')\n",
    "plt.xlabel('Epoch')\n",
    "plt.ylabel('Accuracy')\n",
    "plt.legend(['Train', 'Validation'], loc='upper left')\n",
    "\n",
    "\n",
    "# Plot training & validation loss values\n",
    "plt.subplot(1, 2, 2)\n",
    "plt.plot(history.history['loss'],marker = 'o')\n",
    "plt.plot(history.history['val_loss'],marker = 'o')\n",
    "plt.title('Model loss')\n",
    "plt.xlabel('Epoch')\n",
    "plt.ylabel('Loss')\n",
    "plt.legend(['Train', 'Validation'], loc='upper left')\n",
    "\n",
    "plt.tight_layout()\n",
    "plt.show()"
   ]
  },
  {
   "cell_type": "code",
   "execution_count": null,
   "metadata": {},
   "outputs": [],
   "source": [
    "import tensorflow as tf\n",
    "\n",
    "embedding_dim = 600\n",
    "hidden_units = 128\n",
    "num_classes = 10  # Replace with your actual number of classes\n",
    "\n",
    "model = tf.keras.Sequential([\n",
    "    tf.keras.layers.Input(shape=(embedding_dim,)),\n",
    "    tf.keras.layers.Reshape(target_shape=(1, embedding_dim)),\n",
    "    tf.keras.layers.Bidirectional(tf.keras.layers.LSTM(1200, return_sequences=True)),  # Bidirectional LSTM\n",
    "    tf.keras.layers.Bidirectional(tf.keras.layers.LSTM(300, return_sequences=True)),   # Bidirectional LSTM\n",
    "    tf.keras.layers.Bidirectional(tf.keras.layers.LSTM(100, return_sequences=False)),  # Bidirectional LSTM\n",
    "    tf.keras.layers.Dense(num_classes, activation='softmax')\n",
    "])\n",
    "\n",
    "model.compile(optimizer='Adagrad', loss='sparse_categorical_crossentropy', metrics=['accuracy'])\n"
   ]
  },
  {
   "cell_type": "code",
   "execution_count": null,
   "metadata": {},
   "outputs": [],
   "source": [
    "history = model.fit(X_train, y_train,\n",
    "                    epochs=500,\n",
    "                    batch_size=32,\n",
    "                    validation_split=0.2,\n",
    "                    callbacks=[early_stopping],  # Use the early stopping callback\n",
    "                    verbose=1)"
   ]
  },
  {
   "cell_type": "code",
   "execution_count": null,
   "metadata": {},
   "outputs": [],
   "source": [
    "import matplotlib.pyplot as plt\n",
    "\n",
    "test_loss, test_accuracy = model.evaluate(X_test, y_test)\n",
    "print(f\"Test accuracy: {test_accuracy}\")\n",
    "\n",
    "# Plot training history\n",
    "plt.figure(figsize=(12, 4))\n",
    "\n",
    "# Plot training & validation accuracy values\n",
    "plt.subplot(1, 2, 1)\n",
    "plt.plot(history.history['accuracy'],marker = 'o')\n",
    "plt.plot(history.history['val_accuracy'],marker = 'o')\n",
    "plt.title('Model accuracy')\n",
    "plt.xlabel('Epoch')\n",
    "plt.ylabel('Accuracy')\n",
    "plt.legend(['Train', 'Validation'], loc='upper left')\n",
    "\n",
    "\n",
    "# Plot training & validation loss values\n",
    "plt.subplot(1, 2, 2)\n",
    "plt.plot(history.history['loss'],marker = 'o')\n",
    "plt.plot(history.history['val_loss'],marker = 'o')\n",
    "plt.title('Model loss')\n",
    "plt.xlabel('Epoch')\n",
    "plt.ylabel('Loss')\n",
    "plt.legend(['Train', 'Validation'], loc='upper left')\n",
    "\n",
    "plt.tight_layout()\n",
    "plt.show()"
   ]
  },
  {
   "cell_type": "code",
   "execution_count": null,
   "metadata": {},
   "outputs": [],
   "source": []
  },
  {
   "cell_type": "code",
   "execution_count": null,
   "metadata": {},
   "outputs": [],
   "source": []
  },
  {
   "cell_type": "code",
   "execution_count": null,
   "metadata": {},
   "outputs": [],
   "source": []
  },
  {
   "cell_type": "code",
   "execution_count": null,
   "metadata": {},
   "outputs": [],
   "source": []
  },
  {
   "cell_type": "code",
   "execution_count": null,
   "metadata": {},
   "outputs": [],
   "source": []
  }
 ],
 "metadata": {
  "kernelspec": {
   "display_name": "base",
   "language": "python",
   "name": "python3"
  },
  "language_info": {
   "codemirror_mode": {
    "name": "ipython",
    "version": 3
   },
   "file_extension": ".py",
   "mimetype": "text/x-python",
   "name": "python",
   "nbconvert_exporter": "python",
   "pygments_lexer": "ipython3",
   "version": "3.10.9"
  },
  "orig_nbformat": 4
 },
 "nbformat": 4,
 "nbformat_minor": 2
}
